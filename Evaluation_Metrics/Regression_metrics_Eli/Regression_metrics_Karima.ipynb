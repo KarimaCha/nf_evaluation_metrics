{
 "cells": [
  {
   "cell_type": "markdown",
   "metadata": {},
   "source": [
    "The mod:`sklearn.metrics` module implements several loss, score, and utility functions to measure regression performance. \n",
    "\n",
    "Some of those have been enhanced to handle the multioutput case: \n",
    "\n",
    ":func:`mean_squared_error`, \n",
    "\n",
    ":func:`mean_absolute_error`, \n",
    "\n",
    ":func:`explained_variance_score` and \n",
    "\n",
    ":func:`r2_score`"
   ]
  },
  {
   "cell_type": "markdown",
   "metadata": {},
   "source": [
    " Most common metrics for evaluating predictions on regression machine learning problems:\n",
    "\n",
    "Mean Absolute Error.\n",
    "\n",
    "Mean Squared Error.\n",
    "\n",
    "R^2."
   ]
  },
  {
   "cell_type": "markdown",
   "metadata": {},
   "source": [
    "### Mean Absolute Error (MAE)\n",
    "The Mean Absolute Error (or MAE) is the average of the absolute differences between predictions and actual values. It gives an idea of how wrong the predictions were.\n",
    "\n",
    "The measure gives an idea of the magnitude of the error, but no idea of the direction (e.g. over or under predicting).\n",
    "\n",
    "You can learn more about Mean Absolute error on Wikipedia."
   ]
  },
  {
   "cell_type": "markdown",
   "metadata": {},
   "source": [
    "### Mean Squared Error (MSE)"
   ]
  },
  {
   "cell_type": "markdown",
   "metadata": {},
   "source": [
    "The Mean Squared Error (or MSE) is much like the mean absolute error in that it provides a gross idea of the magnitude of error.\n",
    "\n",
    "Taking the square root of the mean squared error converts the units back to the original units of the output variable and can be meaningful for description and presentation. This is called the Root Mean Squared Error (or RMSE).\n",
    "\n",
    "You can learn more about Mean Squared Error on Wikipedia."
   ]
  },
  {
   "cell_type": "markdown",
   "metadata": {},
   "source": [
    "### R squared"
   ]
  },
  {
   "cell_type": "markdown",
   "metadata": {},
   "source": [
    "The R^2 (or R Squared) metric provides an indication of the goodness of fit of a set of predictions to the actual values. In statistical literature, this measure is called the coefficient of determination.\n",
    "\n",
    "This is a value between 0 and 1 for no-fit and perfect fit respectively."
   ]
  },
  {
   "cell_type": "markdown",
   "metadata": {},
   "source": [
    "### Challenge for you"
   ]
  },
  {
   "cell_type": "markdown",
   "metadata": {},
   "source": [
    "Can you write code for all 3 metrics above and calculate Regression metrics for Boston housing data?"
   ]
  },
  {
   "cell_type": "markdown",
   "metadata": {},
   "source": [
    "#### Part 1: Calculate regression metrics for example data"
   ]
  },
  {
   "cell_type": "code",
   "execution_count": 24,
   "metadata": {},
   "outputs": [
    {
     "data": {
      "image/png": "[encoded data removed]",
      "text/plain": [
       "<Figure size 432x288 with 1 Axes>"
      ]
     },
     "metadata": {
      "needs_background": "light"
     },
     "output_type": "display_data"
    }
   ],
   "source": [
    "# first let us generate and plot some data to test the metric functions\n",
    "import numpy as np\n",
    "import matplotlib.pyplot as plt\n",
    "\n",
    "x = np.random.uniform(-3,3,200)     # 200 x-values spread uniformly between -3 and 3\n",
    "y = 2 + 3*x + np.random.randn(200)  # corresponding y-values following this linear function + Gaussian random noise\n",
    "\n",
    "plt.scatter(x,y);  # scatter plot"
   ]
  },
  {
   "cell_type": "code",
   "execution_count": 25,
   "metadata": {},
   "outputs": [
    {
     "data": {
      "text/plain": [
       "(2.025822139282561, array([2.98147304]))"
      ]
     },
     "execution_count": 25,
     "metadata": {},
     "output_type": "execute_result"
    }
   ],
   "source": [
    "# now calculate a linear model using OLS\n",
    "from sklearn.linear_model import LinearRegression\n",
    "\n",
    "lr = LinearRegression()\n",
    "lr = lr.fit(x.reshape(200,1),y)   # reshape x, as it must be 2-dimensional\n",
    "lr.intercept_, lr.coef_"
   ]
  },
  {
   "cell_type": "code",
   "execution_count": 33,
   "metadata": {},
   "outputs": [
    {
     "data": {
      "text/plain": [
       "array([ 2.02930962, -4.31146179,  8.35745688, -3.93325081,  8.878978  ])"
      ]
     },
     "execution_count": 33,
     "metadata": {},
     "output_type": "execute_result"
    }
   ],
   "source": [
    "# model parameter are close to the actual ones, now we make predictions\n",
    "y_pred = lr.predict(x.reshape(200,1))\n",
    "y_pred[:5]"
   ]
  },
  {
   "cell_type": "code",
   "execution_count": 34,
   "metadata": {},
   "outputs": [
    {
     "data": {
      "image/png": "[encoded data removed]",
      "text/plain": [
       "<Figure size 432x288 with 1 Axes>"
      ]
     },
     "metadata": {
      "needs_background": "light"
     },
     "output_type": "display_data"
    }
   ],
   "source": [
    "# plot actual points and predicted points (the latter as a line)\n",
    "\n",
    "plt.plot(x,y,'b.');       # actual\n",
    "plt.plot(x,y_pred,'r_');  # predicted"
   ]
  },
  {
   "cell_type": "code",
   "execution_count": 63,
   "metadata": {},
   "outputs": [
    {
     "name": "stdout",
     "output_type": "stream",
     "text": [
      "1.0265700560763933 1.0265700560763933\n",
      "True\n"
     ]
    }
   ],
   "source": [
    "# now calculate the different regression metrics, once by myself and once with sklearn\n",
    "\n",
    "# 1a) mean_squared_error - sklearn\n",
    "from sklearn.metrics import mean_squared_error\n",
    "MSE_1 = mean_squared_error(y, y_pred)\n",
    "\n",
    "# 1b) mean_squared_error - myself\n",
    "MSE_2 = np.mean(np.square(y - y_pred))\n",
    "\n",
    "print(MSE_1, MSE_2)\n",
    "print(MSE_1 == MSE_2)"
   ]
  },
  {
   "cell_type": "code",
   "execution_count": 64,
   "metadata": {},
   "outputs": [
    {
     "name": "stdout",
     "output_type": "stream",
     "text": [
      "0.7969702121200573 0.7969702121200573\n",
      "True\n"
     ]
    }
   ],
   "source": [
    "# 1a) mean_absolute_error - sklearn\n",
    "from sklearn.metrics import mean_absolute_error\n",
    "MAE_1 = mean_absolute_error(y, y_pred)\n",
    "\n",
    "# 1b) mean_squared_error - myself\n",
    "MAE_2 = np.mean(np.abs(y - y_pred))\n",
    "\n",
    "print(MAE_1, MAE_2)\n",
    "print(MAE_1 == MAE_2)"
   ]
  },
  {
   "cell_type": "code",
   "execution_count": 65,
   "metadata": {},
   "outputs": [
    {
     "name": "stdout",
     "output_type": "stream",
     "text": [
      "0.961632478177847 0.9616324781778465 0.961632478177847\n",
      "True\n"
     ]
    }
   ],
   "source": [
    "# 1a) r2 - sklearn\n",
    "from sklearn.metrics import r2_score\n",
    "R2_1 = r2_score(y, y_pred)\n",
    "\n",
    "# 1b) mean_squared_error - myself\n",
    "SQE = np.sum(np.square(y_pred - np.mean(y)))   # sum of squares - explained\n",
    "SQT = np.sum(np.square(y - np.mean(y)))        # sum of squares - total\n",
    "SQR = np.sum(np.square(y - y_pred))            # sum of squares - residuals\n",
    "R2_2a = SQE / SQT\n",
    "R2_2b = 1 - (SQR / SQT)\n",
    "\n",
    "#numerator = (weight * (y_true - y_pred) ** 2).sum(axis=0, dtype=np.float64)\n",
    "# denominator = (weight * (y_true - np.average(\n",
    "        # y_true, axis=0, weights=sample_weight)) ** 2).sum(axis=0, dtype=np.float64)\n",
    "\n",
    "print(R2_1, R2_2a, R2_2b)\n",
    "print(R2_1 == R2_2b)"
   ]
  },
  {
   "cell_type": "markdown",
   "metadata": {},
   "source": [
    "#### Part 2: Calculate regression metrics for Boston housing data"
   ]
  },
  {
   "cell_type": "code",
   "execution_count": 67,
   "metadata": {
    "scrolled": true
   },
   "outputs": [
    {
     "data": {
      "text/html": [
       "<div>\n",
       "<style scoped>\n",
       "    .dataframe tbody tr th:only-of-type {\n",
       "        vertical-align: middle;\n",
       "    }\n",
       "\n",
       "    .dataframe tbody tr th {\n",
       "        vertical-align: top;\n",
       "    }\n",
       "\n",
       "    .dataframe thead th {\n",
       "        text-align: right;\n",
       "    }\n",
       "</style>\n",
       "<table border=\"1\" class=\"dataframe\">\n",
       "  <thead>\n",
       "    <tr style=\"text-align: right;\">\n",
       "      <th></th>\n",
       "      <th>crim</th>\n",
       "      <th>zn</th>\n",
       "      <th>indus</th>\n",
       "      <th>chas</th>\n",
       "      <th>nox</th>\n",
       "      <th>rm</th>\n",
       "      <th>age</th>\n",
       "      <th>dis</th>\n",
       "      <th>rad</th>\n",
       "      <th>tax</th>\n",
       "      <th>ptratio</th>\n",
       "      <th>b</th>\n",
       "      <th>lstat</th>\n",
       "      <th>medv</th>\n",
       "    </tr>\n",
       "  </thead>\n",
       "  <tbody>\n",
       "    <tr>\n",
       "      <th>0</th>\n",
       "      <td>0.00632</td>\n",
       "      <td>18.0</td>\n",
       "      <td>2.31</td>\n",
       "      <td>0</td>\n",
       "      <td>0.538</td>\n",
       "      <td>6.575</td>\n",
       "      <td>65.2</td>\n",
       "      <td>4.0900</td>\n",
       "      <td>1</td>\n",
       "      <td>296</td>\n",
       "      <td>15.3</td>\n",
       "      <td>396.90</td>\n",
       "      <td>4.98</td>\n",
       "      <td>24.0</td>\n",
       "    </tr>\n",
       "    <tr>\n",
       "      <th>1</th>\n",
       "      <td>0.02731</td>\n",
       "      <td>0.0</td>\n",
       "      <td>7.07</td>\n",
       "      <td>0</td>\n",
       "      <td>0.469</td>\n",
       "      <td>6.421</td>\n",
       "      <td>78.9</td>\n",
       "      <td>4.9671</td>\n",
       "      <td>2</td>\n",
       "      <td>242</td>\n",
       "      <td>17.8</td>\n",
       "      <td>396.90</td>\n",
       "      <td>9.14</td>\n",
       "      <td>21.6</td>\n",
       "    </tr>\n",
       "    <tr>\n",
       "      <th>2</th>\n",
       "      <td>0.02729</td>\n",
       "      <td>0.0</td>\n",
       "      <td>7.07</td>\n",
       "      <td>0</td>\n",
       "      <td>0.469</td>\n",
       "      <td>7.185</td>\n",
       "      <td>61.1</td>\n",
       "      <td>4.9671</td>\n",
       "      <td>2</td>\n",
       "      <td>242</td>\n",
       "      <td>17.8</td>\n",
       "      <td>392.83</td>\n",
       "      <td>4.03</td>\n",
       "      <td>34.7</td>\n",
       "    </tr>\n",
       "  </tbody>\n",
       "</table>\n",
       "</div>"
      ],
      "text/plain": [
       "      crim    zn  indus  chas    nox     rm   age     dis  rad  tax  ptratio  \\\n",
       "0  0.00632  18.0   2.31     0  0.538  6.575  65.2  4.0900    1  296     15.3   \n",
       "1  0.02731   0.0   7.07     0  0.469  6.421  78.9  4.9671    2  242     17.8   \n",
       "2  0.02729   0.0   7.07     0  0.469  7.185  61.1  4.9671    2  242     17.8   \n",
       "\n",
       "        b  lstat  medv  \n",
       "0  396.90   4.98  24.0  \n",
       "1  396.90   9.14  21.6  \n",
       "2  392.83   4.03  34.7  "
      ]
     },
     "execution_count": 67,
     "metadata": {},
     "output_type": "execute_result"
    }
   ],
   "source": [
    "import pandas as pd \n",
    "df = pd.read_csv('https://raw.githubusercontent.com/selva86/datasets/master/BostonHousing.csv')\n",
    "df.head(3)"
   ]
  },
  {
   "cell_type": "code",
   "execution_count": 70,
   "metadata": {},
   "outputs": [
    {
     "name": "stdout",
     "output_type": "stream",
     "text": [
      "(404, 2)\n",
      "(102, 2)\n",
      "(404,)\n",
      "(102,)\n"
     ]
    }
   ],
   "source": [
    "# train/test splitting\n",
    "from sklearn.model_selection import train_test_split\n",
    "\n",
    "X = pd.DataFrame(np.c_[df['lstat'], df['rm']], columns = ['lstat','rm'])\n",
    "y = df['medv']\n",
    "\n",
    "X_train, X_test, Y_train, Y_test = train_test_split(X, y, test_size = 0.2, random_state=5)\n",
    "print(X_train.shape); print(X_test.shape)\n",
    "print(Y_train.shape); print(Y_test.shape)"
   ]
  },
  {
   "cell_type": "code",
   "execution_count": 77,
   "metadata": {},
   "outputs": [],
   "source": [
    "# create function to fit linear or polynomial regression and return RMSE/R2 (from Eli)\n",
    "from sklearn.preprocessing import PolynomialFeatures\n",
    "from sklearn.linear_model import LinearRegression\n",
    "from sklearn.metrics import r2_score, mean_squared_error, mean_absolute_error\n",
    "\n",
    "def create_polynomial_regression_model(degree):\n",
    "    \"Creates a polynomial regression model for the given degree\"\n",
    "  \n",
    "    poly_features = PolynomialFeatures(degree=degree)\n",
    "  \n",
    "    # transforms the existing features to higher degree features\n",
    "    X_train_poly = poly_features.fit_transform(X_train)\n",
    "  \n",
    "    # fit the transformed features to Linear Regression\n",
    "    poly_model = LinearRegression()\n",
    "    poly_model.fit(X_train_poly, Y_train)\n",
    "  \n",
    "    # predicting on training data-set\n",
    "    y_train_predict = poly_model.predict(X_train_poly)\n",
    "  \n",
    "    # predicting on test data-set\n",
    "    y_test_predict = poly_model.predict(poly_features.fit_transform(X_test))\n",
    "  \n",
    "    # evaluating the model on training dataset\n",
    "    mae_train = mean_absolute_error(Y_train, y_train_predict)\n",
    "    mse_train = mean_squared_error(Y_train, y_train_predict)\n",
    "    rmse_train = np.sqrt(mean_squared_error(Y_train, y_train_predict))\n",
    "    r2_train = r2_score(Y_train, y_train_predict)\n",
    "  \n",
    "    # evaluating the model on test dataset\n",
    "    mae_test = mean_absolute_error(Y_test, y_test_predict)\n",
    "    mse_test = mean_squared_error(Y_test, y_test_predict)\n",
    "    rmse_test = np.sqrt(mean_squared_error(Y_test, y_test_predict))\n",
    "    r2_test = r2_score(Y_test, y_test_predict)\n",
    "  \n",
    "    print(\"The model performance for the training set\")\n",
    "    print(\"-------------------------------------------\")\n",
    "    print(\"MAE of training set is {:.3f}\".format(mae_train))    \n",
    "    print(\"MSE of training set is {:.3f}\".format(mse_train))\n",
    "    print(\"RMSE of training set is {:.3f}\".format(rmse_train))\n",
    "    print(\"R2 score of training set is {:.3f}\".format(r2_train))\n",
    "    print(\"\\n\")\n",
    "    print(\"The model performance for the test set\")\n",
    "    print(\"------------------------------------------\")\n",
    "    print(\"MAE of test set is {:.3f}\".format(mae_test))    \n",
    "    print(\"MSE of test set is {:.3f}\".format(mse_test))\n",
    "    print(\"RMSE of test set is {:.3f}\".format(rmse_test))\n",
    "    print(\"R2 score of test set is {:.3f}\".format(r2_test))"
   ]
  },
  {
   "cell_type": "code",
   "execution_count": 78,
   "metadata": {},
   "outputs": [
    {
     "name": "stdout",
     "output_type": "stream",
     "text": [
      "The model performance for the training set\n",
      "-------------------------------------------\n",
      "MAE of training set is 4.031\n",
      "MSE of training set is 31.777\n",
      "RMSE of training set is 5.637\n",
      "R2 score of training set is 0.630\n",
      "\n",
      "\n",
      "The model performance for the test set\n",
      "------------------------------------------\n",
      "MAE of test set is 3.791\n",
      "MSE of test set is 26.393\n",
      "RMSE of test set is 5.137\n",
      "R2 score of test set is 0.663\n"
     ]
    }
   ],
   "source": [
    "create_polynomial_regression_model(1)"
   ]
  }
 ],
 "metadata": {
  "kernelspec": {
   "display_name": "Python 3",
   "language": "python",
   "name": "python3"
  },
  "language_info": {
   "codemirror_mode": {
    "name": "ipython",
    "version": 3
   },
   "file_extension": ".py",
   "mimetype": "text/x-python",
   "name": "python",
   "nbconvert_exporter": "python",
   "pygments_lexer": "ipython3",
   "version": "3.6.6"
  }
 },
 "nbformat": 4,
 "nbformat_minor": 2
}
